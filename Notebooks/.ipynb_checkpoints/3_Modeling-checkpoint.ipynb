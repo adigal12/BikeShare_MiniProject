{
 "cells": [
  {
   "cell_type": "markdown",
   "metadata": {},
   "source": [
    "<center>\n",
    " \n",
    "# 3) Bike Share Mini Project - Modeling\n",
    "\n",
    "### by Aditi Gala\n",
    "\n",
    "<center>\n",
    "<br>\n",
    "\n",
    "In this notebook we attempt to create a model for the bikeshare daily data, building off from the initial exploratory analysis. We look at both continous and categorical features and create a Deep Neural Network model. The performance of the model is assessed using test data. "
   ]
  },
  {
   "cell_type": "code",
   "execution_count": 1,
   "metadata": {},
   "outputs": [
    {
     "name": "stderr",
     "output_type": "stream",
     "text": [
      "Using TensorFlow backend.\n"
     ]
    }
   ],
   "source": [
    "import numpy as np\n",
    "import pandas as pd\n",
    "import matplotlib.pyplot as plt\n",
    "from sklearn.preprocessing import MinMaxScaler\n",
    "from sklearn.model_selection import train_test_split\n",
    "from keras import models\n",
    "from keras import layers\n",
    "from keras.layers import Dense, LSTM, GRU, Conv1D,MaxPooling1D, Flatten\n",
    "from keras import optimizers\n",
    "from keras.callbacks import ModelCheckpoint, EarlyStopping\n",
    "from keras.models import load_model\n",
    "%matplotlib inline"
   ]
  },
  {
   "cell_type": "code",
   "execution_count": 2,
   "metadata": {},
   "outputs": [],
   "source": [
    "# Set seed\n",
    "np.random.seed(123)"
   ]
  },
  {
   "cell_type": "markdown",
   "metadata": {},
   "source": [
    "### Daily Data"
   ]
  },
  {
   "cell_type": "code",
   "execution_count": 3,
   "metadata": {},
   "outputs": [
    {
     "name": "stdout",
     "output_type": "stream",
     "text": [
      "Rows, Columns =  (731, 21)\n"
     ]
    },
    {
     "data": {
      "text/html": [
       "<div>\n",
       "<style scoped>\n",
       "    .dataframe tbody tr th:only-of-type {\n",
       "        vertical-align: middle;\n",
       "    }\n",
       "\n",
       "    .dataframe tbody tr th {\n",
       "        vertical-align: top;\n",
       "    }\n",
       "\n",
       "    .dataframe thead th {\n",
       "        text-align: right;\n",
       "    }\n",
       "</style>\n",
       "<table border=\"1\" class=\"dataframe\">\n",
       "  <thead>\n",
       "    <tr style=\"text-align: right;\">\n",
       "      <th></th>\n",
       "      <th>instant</th>\n",
       "      <th>dteday</th>\n",
       "      <th>season</th>\n",
       "      <th>yr</th>\n",
       "      <th>mnth</th>\n",
       "      <th>holiday</th>\n",
       "      <th>weekday</th>\n",
       "      <th>workingday</th>\n",
       "      <th>temp</th>\n",
       "      <th>atemp</th>\n",
       "      <th>...</th>\n",
       "      <th>windspeed</th>\n",
       "      <th>casual</th>\n",
       "      <th>registered</th>\n",
       "      <th>cnt</th>\n",
       "      <th>OneHot_1</th>\n",
       "      <th>OneHot_2</th>\n",
       "      <th>OneHot_3</th>\n",
       "      <th>Year</th>\n",
       "      <th>Month</th>\n",
       "      <th>Day</th>\n",
       "    </tr>\n",
       "  </thead>\n",
       "  <tbody>\n",
       "    <tr>\n",
       "      <td>0</td>\n",
       "      <td>1</td>\n",
       "      <td>2011-01-01</td>\n",
       "      <td>1</td>\n",
       "      <td>0</td>\n",
       "      <td>1</td>\n",
       "      <td>0</td>\n",
       "      <td>6</td>\n",
       "      <td>0</td>\n",
       "      <td>0.344167</td>\n",
       "      <td>0.363625</td>\n",
       "      <td>...</td>\n",
       "      <td>0.160446</td>\n",
       "      <td>331</td>\n",
       "      <td>654</td>\n",
       "      <td>985</td>\n",
       "      <td>0</td>\n",
       "      <td>1</td>\n",
       "      <td>0</td>\n",
       "      <td>2011</td>\n",
       "      <td>1</td>\n",
       "      <td>1</td>\n",
       "    </tr>\n",
       "    <tr>\n",
       "      <td>1</td>\n",
       "      <td>2</td>\n",
       "      <td>2011-01-02</td>\n",
       "      <td>1</td>\n",
       "      <td>0</td>\n",
       "      <td>1</td>\n",
       "      <td>0</td>\n",
       "      <td>0</td>\n",
       "      <td>0</td>\n",
       "      <td>0.363478</td>\n",
       "      <td>0.353739</td>\n",
       "      <td>...</td>\n",
       "      <td>0.248539</td>\n",
       "      <td>131</td>\n",
       "      <td>670</td>\n",
       "      <td>801</td>\n",
       "      <td>0</td>\n",
       "      <td>1</td>\n",
       "      <td>0</td>\n",
       "      <td>2011</td>\n",
       "      <td>1</td>\n",
       "      <td>2</td>\n",
       "    </tr>\n",
       "    <tr>\n",
       "      <td>2</td>\n",
       "      <td>3</td>\n",
       "      <td>2011-01-03</td>\n",
       "      <td>1</td>\n",
       "      <td>0</td>\n",
       "      <td>1</td>\n",
       "      <td>0</td>\n",
       "      <td>1</td>\n",
       "      <td>1</td>\n",
       "      <td>0.196364</td>\n",
       "      <td>0.189405</td>\n",
       "      <td>...</td>\n",
       "      <td>0.248309</td>\n",
       "      <td>120</td>\n",
       "      <td>1229</td>\n",
       "      <td>1349</td>\n",
       "      <td>1</td>\n",
       "      <td>0</td>\n",
       "      <td>0</td>\n",
       "      <td>2011</td>\n",
       "      <td>1</td>\n",
       "      <td>3</td>\n",
       "    </tr>\n",
       "    <tr>\n",
       "      <td>3</td>\n",
       "      <td>4</td>\n",
       "      <td>2011-01-04</td>\n",
       "      <td>1</td>\n",
       "      <td>0</td>\n",
       "      <td>1</td>\n",
       "      <td>0</td>\n",
       "      <td>2</td>\n",
       "      <td>1</td>\n",
       "      <td>0.200000</td>\n",
       "      <td>0.212122</td>\n",
       "      <td>...</td>\n",
       "      <td>0.160296</td>\n",
       "      <td>108</td>\n",
       "      <td>1454</td>\n",
       "      <td>1562</td>\n",
       "      <td>1</td>\n",
       "      <td>0</td>\n",
       "      <td>0</td>\n",
       "      <td>2011</td>\n",
       "      <td>1</td>\n",
       "      <td>4</td>\n",
       "    </tr>\n",
       "    <tr>\n",
       "      <td>4</td>\n",
       "      <td>5</td>\n",
       "      <td>2011-01-05</td>\n",
       "      <td>1</td>\n",
       "      <td>0</td>\n",
       "      <td>1</td>\n",
       "      <td>0</td>\n",
       "      <td>3</td>\n",
       "      <td>1</td>\n",
       "      <td>0.226957</td>\n",
       "      <td>0.229270</td>\n",
       "      <td>...</td>\n",
       "      <td>0.186900</td>\n",
       "      <td>82</td>\n",
       "      <td>1518</td>\n",
       "      <td>1600</td>\n",
       "      <td>1</td>\n",
       "      <td>0</td>\n",
       "      <td>0</td>\n",
       "      <td>2011</td>\n",
       "      <td>1</td>\n",
       "      <td>5</td>\n",
       "    </tr>\n",
       "  </tbody>\n",
       "</table>\n",
       "<p>5 rows × 21 columns</p>\n",
       "</div>"
      ],
      "text/plain": [
       "   instant      dteday  season  yr  mnth  holiday  weekday  workingday  \\\n",
       "0        1  2011-01-01       1   0     1        0        6           0   \n",
       "1        2  2011-01-02       1   0     1        0        0           0   \n",
       "2        3  2011-01-03       1   0     1        0        1           1   \n",
       "3        4  2011-01-04       1   0     1        0        2           1   \n",
       "4        5  2011-01-05       1   0     1        0        3           1   \n",
       "\n",
       "       temp     atemp  ...  windspeed  casual  registered   cnt  OneHot_1  \\\n",
       "0  0.344167  0.363625  ...   0.160446     331         654   985         0   \n",
       "1  0.363478  0.353739  ...   0.248539     131         670   801         0   \n",
       "2  0.196364  0.189405  ...   0.248309     120        1229  1349         1   \n",
       "3  0.200000  0.212122  ...   0.160296     108        1454  1562         1   \n",
       "4  0.226957  0.229270  ...   0.186900      82        1518  1600         1   \n",
       "\n",
       "   OneHot_2  OneHot_3  Year  Month  Day  \n",
       "0         1         0  2011      1    1  \n",
       "1         1         0  2011      1    2  \n",
       "2         0         0  2011      1    3  \n",
       "3         0         0  2011      1    4  \n",
       "4         0         0  2011      1    5  \n",
       "\n",
       "[5 rows x 21 columns]"
      ]
     },
     "execution_count": 3,
     "metadata": {},
     "output_type": "execute_result"
    }
   ],
   "source": [
    "# Load the clean daily bikeshare data\n",
    "file_path = \"/Users/aditigala/Documents/Pacific/Software_Methods/Bikeshare/Data/daily_clean.csv\"\n",
    "daily = pd.read_csv(file_path, index_col = 0)\n",
    "print(\"Rows, Columns = \", daily.shape)\n",
    "daily.head()"
   ]
  },
  {
   "cell_type": "code",
   "execution_count": 4,
   "metadata": {},
   "outputs": [],
   "source": [
    "# Train, test, validation split: 60% train, 20% validation, and 20% test\n",
    "cols_exclude = ['cnt', 'registered', 'casual', 'yr', 'mnth', 'dteday', 'weekday']\n",
    "X_train, X_test, y_train, y_test = train_test_split(daily.drop(columns = cols_exclude), daily['cnt'], test_size=0.2)\n",
    "X_train, X_val, y_train, y_val = train_test_split(X_train, y_train, test_size= .25) # .2 = val/(val+train) = .2/.2+.6"
   ]
  },
  {
   "cell_type": "code",
   "execution_count": 5,
   "metadata": {},
   "outputs": [],
   "source": [
    "# Normaliza the input data\n",
    "scObj = MinMaxScaler(feature_range = (0,1))\n",
    "scObj.fit(X_train)\n",
    "X_trainNorm = scObj.transform(X_train)\n",
    "X_valNorm = scObj.transform(X_val)\n",
    "X_testNorm = scObj.transform(X_test)\n",
    "\n",
    "# Normalize the output data\n",
    "scObj = MinMaxScaler(feature_range = (0,1))\n",
    "scObj.fit(y_train.values.reshape(-1,1))\n",
    "y_trainNorm = scObj.transform(y_train.values.reshape(-1,1))\n",
    "y_valNorm = scObj.transform(y_val.values.reshape(-1,1))\n",
    "y_testNorm = scObj.transform(y_test.values.reshape(-1,1))"
   ]
  },
  {
   "cell_type": "code",
   "execution_count": 6,
   "metadata": {
    "scrolled": true
   },
   "outputs": [
    {
     "name": "stdout",
     "output_type": "stream",
     "text": [
      "Model: \"sequential_1\"\n",
      "_________________________________________________________________\n",
      "Layer (type)                 Output Shape              Param #   \n",
      "=================================================================\n",
      "dense_1 (Dense)              (None, 6)                 90        \n",
      "_________________________________________________________________\n",
      "dropout_1 (Dropout)          (None, 6)                 0         \n",
      "_________________________________________________________________\n",
      "dense_2 (Dense)              (None, 8)                 56        \n",
      "_________________________________________________________________\n",
      "dropout_2 (Dropout)          (None, 8)                 0         \n",
      "_________________________________________________________________\n",
      "dense_3 (Dense)              (None, 1)                 9         \n",
      "=================================================================\n",
      "Total params: 155\n",
      "Trainable params: 155\n",
      "Non-trainable params: 0\n",
      "_________________________________________________________________\n"
     ]
    }
   ],
   "source": [
    "# Instantiate Model\n",
    "m = models.Sequential()\n",
    "m.add(layers.Dense(units = 6, activation = 'relu', input_dim = X_trainNorm.shape[1]))\n",
    "m.add(layers.Dropout(0.1))\n",
    "m.add(layers.Dense(units = 8, activation = 'relu'))\n",
    "m.add(layers.Dropout(0.1))\n",
    "m.add(layers.Dense(units = 1, activation = \"linear\"))\n",
    "m.compile(loss = \"mean_squared_error\",optimizer = 'RMSProp', metrics = ['mae'])\n",
    "m.summary()"
   ]
  },
  {
   "cell_type": "markdown",
   "metadata": {},
   "source": [
    "The model of choice for the daily data has two hidden layers. The first hiddel layer has 6 neurons, the second hidden layer has 8 neurons. Both the hidden layers have a \"ReLu\" activation function and are followed by a drop out layer to introduce some randomness into the model training and avoid over-fitting. "
   ]
  },
  {
   "cell_type": "code",
   "execution_count": 7,
   "metadata": {
    "scrolled": false
   },
   "outputs": [
    {
     "name": "stdout",
     "output_type": "stream",
     "text": [
      "Train on 438 samples, validate on 146 samples\n",
      "Epoch 1/40\n",
      "438/438 [==============================] - 1s 3ms/step - loss: 0.2269 - mae: 0.4153 - val_loss: 0.1432 - val_mae: 0.2965\n",
      "Epoch 2/40\n",
      "438/438 [==============================] - 0s 417us/step - loss: 0.0911 - mae: 0.2399 - val_loss: 0.0656 - val_mae: 0.2072\n",
      "Epoch 3/40\n",
      "438/438 [==============================] - 0s 438us/step - loss: 0.0574 - mae: 0.1923 - val_loss: 0.0462 - val_mae: 0.1720\n",
      "Epoch 4/40\n",
      "438/438 [==============================] - 0s 400us/step - loss: 0.0459 - mae: 0.1682 - val_loss: 0.0367 - val_mae: 0.1496\n",
      "Epoch 5/40\n",
      "438/438 [==============================] - 0s 381us/step - loss: 0.0417 - mae: 0.1591 - val_loss: 0.0300 - val_mae: 0.1364\n",
      "Epoch 6/40\n",
      "438/438 [==============================] - 0s 385us/step - loss: 0.0366 - mae: 0.1514 - val_loss: 0.0271 - val_mae: 0.1276\n",
      "Epoch 7/40\n",
      "438/438 [==============================] - 0s 391us/step - loss: 0.0379 - mae: 0.1506 - val_loss: 0.0255 - val_mae: 0.1234\n",
      "Epoch 8/40\n",
      "438/438 [==============================] - 0s 393us/step - loss: 0.0336 - mae: 0.1414 - val_loss: 0.0242 - val_mae: 0.1178\n",
      "Epoch 9/40\n",
      "438/438 [==============================] - 0s 461us/step - loss: 0.0357 - mae: 0.1466 - val_loss: 0.0237 - val_mae: 0.1162\n",
      "Epoch 10/40\n",
      "438/438 [==============================] - 0s 406us/step - loss: 0.0304 - mae: 0.1340 - val_loss: 0.0239 - val_mae: 0.1165\n",
      "Epoch 11/40\n",
      "438/438 [==============================] - 0s 392us/step - loss: 0.0306 - mae: 0.1348 - val_loss: 0.0220 - val_mae: 0.1123\n",
      "Epoch 12/40\n",
      "438/438 [==============================] - 0s 362us/step - loss: 0.0285 - mae: 0.1313 - val_loss: 0.0205 - val_mae: 0.1091\n",
      "Epoch 13/40\n",
      "438/438 [==============================] - 0s 358us/step - loss: 0.0282 - mae: 0.1301 - val_loss: 0.0211 - val_mae: 0.1096\n",
      "Epoch 14/40\n",
      "438/438 [==============================] - 0s 418us/step - loss: 0.0267 - mae: 0.1279 - val_loss: 0.0189 - val_mae: 0.1043\n",
      "Epoch 15/40\n",
      "438/438 [==============================] - 0s 399us/step - loss: 0.0295 - mae: 0.1310 - val_loss: 0.0181 - val_mae: 0.1023\n",
      "Epoch 16/40\n",
      "438/438 [==============================] - 0s 401us/step - loss: 0.0250 - mae: 0.1240 - val_loss: 0.0184 - val_mae: 0.1041\n",
      "Epoch 17/40\n",
      "438/438 [==============================] - 0s 438us/step - loss: 0.0267 - mae: 0.1276 - val_loss: 0.0184 - val_mae: 0.1044\n",
      "Epoch 18/40\n",
      "438/438 [==============================] - 0s 417us/step - loss: 0.0263 - mae: 0.1238 - val_loss: 0.0169 - val_mae: 0.0993\n",
      "Epoch 19/40\n",
      "438/438 [==============================] - 0s 443us/step - loss: 0.0246 - mae: 0.1212 - val_loss: 0.0161 - val_mae: 0.0969\n",
      "Epoch 20/40\n",
      "438/438 [==============================] - 0s 458us/step - loss: 0.0253 - mae: 0.1247 - val_loss: 0.0152 - val_mae: 0.0948\n",
      "Epoch 21/40\n",
      "438/438 [==============================] - 0s 416us/step - loss: 0.0247 - mae: 0.1197 - val_loss: 0.0134 - val_mae: 0.0896\n",
      "Epoch 22/40\n",
      "438/438 [==============================] - 0s 363us/step - loss: 0.0229 - mae: 0.1137 - val_loss: 0.0137 - val_mae: 0.0896\n",
      "Epoch 23/40\n",
      "438/438 [==============================] - 0s 385us/step - loss: 0.0219 - mae: 0.1128 - val_loss: 0.0148 - val_mae: 0.0942\n",
      "Epoch 24/40\n",
      "438/438 [==============================] - 0s 589us/step - loss: 0.0222 - mae: 0.1118 - val_loss: 0.0132 - val_mae: 0.0890\n",
      "Epoch 25/40\n",
      "438/438 [==============================] - 0s 524us/step - loss: 0.0215 - mae: 0.1120 - val_loss: 0.0136 - val_mae: 0.0896\n",
      "Epoch 26/40\n",
      "438/438 [==============================] - 0s 748us/step - loss: 0.0208 - mae: 0.1099 - val_loss: 0.0137 - val_mae: 0.0901\n",
      "Epoch 27/40\n",
      "438/438 [==============================] - 0s 663us/step - loss: 0.0208 - mae: 0.1097 - val_loss: 0.0116 - val_mae: 0.0842\n",
      "Epoch 28/40\n",
      "438/438 [==============================] - 0s 598us/step - loss: 0.0209 - mae: 0.1089 - val_loss: 0.0124 - val_mae: 0.0850\n",
      "Epoch 29/40\n",
      "438/438 [==============================] - 0s 717us/step - loss: 0.0217 - mae: 0.1103 - val_loss: 0.0120 - val_mae: 0.0838\n",
      "Epoch 30/40\n",
      "438/438 [==============================] - 0s 545us/step - loss: 0.0191 - mae: 0.1049 - val_loss: 0.0116 - val_mae: 0.0825\n",
      "Epoch 31/40\n",
      "438/438 [==============================] - 0s 522us/step - loss: 0.0190 - mae: 0.1031 - val_loss: 0.0120 - val_mae: 0.0841\n",
      "Epoch 32/40\n",
      "438/438 [==============================] - 0s 736us/step - loss: 0.0214 - mae: 0.1104 - val_loss: 0.0115 - val_mae: 0.0820\n",
      "Epoch 33/40\n",
      "438/438 [==============================] - 0s 690us/step - loss: 0.0205 - mae: 0.1088 - val_loss: 0.0115 - val_mae: 0.0825\n",
      "Epoch 34/40\n",
      "438/438 [==============================] - 0s 611us/step - loss: 0.0233 - mae: 0.1137 - val_loss: 0.0119 - val_mae: 0.0833\n",
      "Epoch 35/40\n",
      "438/438 [==============================] - 0s 642us/step - loss: 0.0193 - mae: 0.1048 - val_loss: 0.0108 - val_mae: 0.0798\n",
      "Epoch 36/40\n",
      "438/438 [==============================] - 0s 595us/step - loss: 0.0198 - mae: 0.1035 - val_loss: 0.0108 - val_mae: 0.0787\n",
      "Epoch 37/40\n",
      "438/438 [==============================] - 0s 489us/step - loss: 0.0190 - mae: 0.1008 - val_loss: 0.0109 - val_mae: 0.0789\n",
      "Epoch 38/40\n",
      "438/438 [==============================] - 0s 637us/step - loss: 0.0192 - mae: 0.1021 - val_loss: 0.0106 - val_mae: 0.0777\n",
      "Epoch 39/40\n",
      "438/438 [==============================] - 0s 402us/step - loss: 0.0195 - mae: 0.1017 - val_loss: 0.0110 - val_mae: 0.0792\n",
      "Epoch 40/40\n",
      "438/438 [==============================] - 0s 697us/step - loss: 0.0191 - mae: 0.1006 - val_loss: 0.0115 - val_mae: 0.0813\n"
     ]
    }
   ],
   "source": [
    "# Train the model\n",
    "history = m.fit(X_trainNorm, y_trainNorm, \n",
    "                validation_data = (X_valNorm, y_valNorm), \n",
    "                verbose = 1, \n",
    "                epochs = 40, \n",
    "                batch_size = 8)"
   ]
  },
  {
   "cell_type": "code",
   "execution_count": 8,
   "metadata": {
    "scrolled": true
   },
   "outputs": [
    {
     "data": {
      "image/png": "[encoded data removed]",
      "text/plain": [
       "<Figure size 432x288 with 1 Axes>"
      ]
     },
     "metadata": {
      "needs_background": "light"
     },
     "output_type": "display_data"
    }
   ],
   "source": [
    "# Plot of loss curves for daily model\n",
    "plt.plot(history.history['loss'],label='train_loss')\n",
    "plt.plot(history.history['val_loss'], label='val_loss')\n",
    "plt.ylabel('loss')\n",
    "plt.xlabel('epoch')\n",
    "plt.title('Training and Validation Loss Curves')\n",
    "plt.legend() \n",
    "plt.show()"
   ]
  },
  {
   "cell_type": "markdown",
   "metadata": {},
   "source": [
    "The validation and training loss curves are pretty close. Surprisingly, the train loss is higher than the val loss."
   ]
  },
  {
   "cell_type": "code",
   "execution_count": 9,
   "metadata": {},
   "outputs": [
    {
     "name": "stdout",
     "output_type": "stream",
     "text": [
      "147/147 [==============================] - 0s 58us/step\n",
      "MAE on the test for daily model is 0.087\n"
     ]
    },
    {
     "data": {
      "image/png": "[encoded data removed]",
      "text/plain": [
       "<Figure size 864x432 with 1 Axes>"
      ]
     },
     "metadata": {
      "needs_background": "light"
     },
     "output_type": "display_data"
    }
   ],
   "source": [
    "# Model Error\n",
    "print('MAE on the test for daily model is %.3f' % m.evaluate(X_testNorm, y_testNorm)[1])\n",
    "\n",
    "\n",
    "# Model Predictions\n",
    "y_preds = m.predict(X_testNorm)\n",
    "\n",
    "# Plot of predictions vs. actual\n",
    "plt.figure(figsize = (12,6))\n",
    "plt.plot(scObj.inverse_transform(y_preds.reshape(-1, 1)), label='Predicted', color = 'orange')\n",
    "plt.plot(scObj.inverse_transform(y_testNorm.reshape(-1, 1)), label='Actual')\n",
    "plt.ylabel(\"Count\")\n",
    "plt.title(\"Actual Daily Bike Rentals vs. Model Predictions\")\n",
    "plt.legend()\n",
    "plt.show()"
   ]
  },
  {
   "cell_type": "code",
   "execution_count": 10,
   "metadata": {},
   "outputs": [
    {
     "ename": "AttributeError",
     "evalue": "'numpy.ndarray' object has no attribute 'values'",
     "output_type": "error",
     "traceback": [
      "\u001b[0;31m---------------------------------------------------------------------------\u001b[0m",
      "\u001b[0;31mAttributeError\u001b[0m                            Traceback (most recent call last)",
      "\u001b[0;32m<ipython-input-10-399ff6fd3956>\u001b[0m in \u001b[0;36m<module>\u001b[0;34m\u001b[0m\n\u001b[1;32m      1\u001b[0m \u001b[0;31m# Export y_test & y_preds as .csv (to be used for plots later)\u001b[0m\u001b[0;34m\u001b[0m\u001b[0;34m\u001b[0m\u001b[0;34m\u001b[0m\u001b[0m\n\u001b[0;32m----> 2\u001b[0;31m \u001b[0my_pred_daily\u001b[0m \u001b[0;34m=\u001b[0m \u001b[0mscObj\u001b[0m\u001b[0;34m.\u001b[0m\u001b[0minverse_transform\u001b[0m\u001b[0;34m(\u001b[0m\u001b[0my_preds\u001b[0m\u001b[0;34m.\u001b[0m\u001b[0mreshape\u001b[0m\u001b[0;34m(\u001b[0m\u001b[0;34m-\u001b[0m\u001b[0;36m1\u001b[0m\u001b[0;34m,\u001b[0m \u001b[0;36m1\u001b[0m\u001b[0;34m)\u001b[0m\u001b[0;34m)\u001b[0m\u001b[0;34m.\u001b[0m\u001b[0mvalues\u001b[0m\u001b[0;34m\u001b[0m\u001b[0;34m\u001b[0m\u001b[0m\n\u001b[0m\u001b[1;32m      3\u001b[0m \u001b[0my_test_daily\u001b[0m \u001b[0;34m=\u001b[0m \u001b[0mscObj\u001b[0m\u001b[0;34m.\u001b[0m\u001b[0minverse_transform\u001b[0m\u001b[0;34m(\u001b[0m\u001b[0my_testNorm\u001b[0m\u001b[0;34m.\u001b[0m\u001b[0mreshape\u001b[0m\u001b[0;34m(\u001b[0m\u001b[0;34m-\u001b[0m\u001b[0;36m1\u001b[0m\u001b[0;34m,\u001b[0m \u001b[0;36m1\u001b[0m\u001b[0;34m)\u001b[0m\u001b[0;34m)\u001b[0m\u001b[0;34m.\u001b[0m\u001b[0mvalues\u001b[0m\u001b[0;34m\u001b[0m\u001b[0;34m\u001b[0m\u001b[0m\n\u001b[1;32m      4\u001b[0m \u001b[0;34m\u001b[0m\u001b[0m\n\u001b[1;32m      5\u001b[0m \u001b[0mdaily_predictions\u001b[0m \u001b[0;34m=\u001b[0m \u001b[0mpd\u001b[0m\u001b[0;34m.\u001b[0m\u001b[0mDataFrame\u001b[0m\u001b[0;34m(\u001b[0m\u001b[0my_pred_daily\u001b[0m\u001b[0;34m,\u001b[0m \u001b[0my_test_daily\u001b[0m\u001b[0;34m)\u001b[0m\u001b[0;34m\u001b[0m\u001b[0;34m\u001b[0m\u001b[0m\n",
      "\u001b[0;31mAttributeError\u001b[0m: 'numpy.ndarray' object has no attribute 'values'"
     ]
    }
   ],
   "source": [
    "# Export y_test & y_preds as .csv (to be used for plots later)\n",
    "y_pred_daily = scObj.inverse_transform(y_preds.reshape(-1, 1))\n",
    "y_test_daily = scObj.inverse_transform(y_testNorm.reshape(-1, 1))\n",
    "\n",
    "daily_predictions = pd.concat((pd.DataFrame(y_test_daily), pd.DataFrame(y_pred_daily)), axis = 1)\n",
    "daily_predictions.to_csv(\"/Users/aditigala/Documents/Pacific/Software_Methods/Bikeshare/Data/daily_preds.csv\")\n",
    "                                       "
   ]
  },
  {
   "cell_type": "code",
   "execution_count": 21,
   "metadata": {},
   "outputs": [
    {
     "data": {
      "text/html": [
       "<div>\n",
       "<style scoped>\n",
       "    .dataframe tbody tr th:only-of-type {\n",
       "        vertical-align: middle;\n",
       "    }\n",
       "\n",
       "    .dataframe tbody tr th {\n",
       "        vertical-align: top;\n",
       "    }\n",
       "\n",
       "    .dataframe thead th {\n",
       "        text-align: right;\n",
       "    }\n",
       "</style>\n",
       "<table border=\"1\" class=\"dataframe\">\n",
       "  <thead>\n",
       "    <tr style=\"text-align: right;\">\n",
       "      <th></th>\n",
       "      <th>0</th>\n",
       "      <th>0</th>\n",
       "    </tr>\n",
       "  </thead>\n",
       "  <tbody>\n",
       "    <tr>\n",
       "      <td>0</td>\n",
       "      <td>6421.0</td>\n",
       "      <td>5841.138672</td>\n",
       "    </tr>\n",
       "    <tr>\n",
       "      <td>1</td>\n",
       "      <td>3389.0</td>\n",
       "      <td>3846.856201</td>\n",
       "    </tr>\n",
       "    <tr>\n",
       "      <td>2</td>\n",
       "      <td>2252.0</td>\n",
       "      <td>3167.962891</td>\n",
       "    </tr>\n",
       "    <tr>\n",
       "      <td>3</td>\n",
       "      <td>3747.0</td>\n",
       "      <td>3137.667725</td>\n",
       "    </tr>\n",
       "    <tr>\n",
       "      <td>4</td>\n",
       "      <td>4708.0</td>\n",
       "      <td>4381.726562</td>\n",
       "    </tr>\n",
       "    <tr>\n",
       "      <td>...</td>\n",
       "      <td>...</td>\n",
       "      <td>...</td>\n",
       "    </tr>\n",
       "    <tr>\n",
       "      <td>142</td>\n",
       "      <td>7907.0</td>\n",
       "      <td>6125.857910</td>\n",
       "    </tr>\n",
       "    <tr>\n",
       "      <td>143</td>\n",
       "      <td>6227.0</td>\n",
       "      <td>6774.208496</td>\n",
       "    </tr>\n",
       "    <tr>\n",
       "      <td>144</td>\n",
       "      <td>6192.0</td>\n",
       "      <td>5775.710449</td>\n",
       "    </tr>\n",
       "    <tr>\n",
       "      <td>145</td>\n",
       "      <td>4996.0</td>\n",
       "      <td>4429.150391</td>\n",
       "    </tr>\n",
       "    <tr>\n",
       "      <td>146</td>\n",
       "      <td>4433.0</td>\n",
       "      <td>3671.899902</td>\n",
       "    </tr>\n",
       "  </tbody>\n",
       "</table>\n",
       "<p>147 rows × 2 columns</p>\n",
       "</div>"
      ],
      "text/plain": [
       "          0            0\n",
       "0    6421.0  5841.138672\n",
       "1    3389.0  3846.856201\n",
       "2    2252.0  3167.962891\n",
       "3    3747.0  3137.667725\n",
       "4    4708.0  4381.726562\n",
       "..      ...          ...\n",
       "142  7907.0  6125.857910\n",
       "143  6227.0  6774.208496\n",
       "144  6192.0  5775.710449\n",
       "145  4996.0  4429.150391\n",
       "146  4433.0  3671.899902\n",
       "\n",
       "[147 rows x 2 columns]"
      ]
     },
     "execution_count": 21,
     "metadata": {},
     "output_type": "execute_result"
    }
   ],
   "source": [
    "pd.concat((pd.DataFrame(y_test_daily), pd.DataFrame(y_pred_daily)), axis = 1)"
   ]
  },
  {
   "cell_type": "markdown",
   "metadata": {},
   "source": [
    "<br><br>\n",
    "\n",
    "### Hourly Data"
   ]
  },
  {
   "cell_type": "code",
   "execution_count": null,
   "metadata": {},
   "outputs": [],
   "source": [
    "# Load the clean daily bikeshare data\n",
    "file_path = \"/Users/aditigala/Documents/Pacific/Software_Methods/Bikeshare/Data/hourly_clean.csv\"\n",
    "hourly = pd.read_csv(file_path, index_col = 0)\n",
    "print(\"Rows, Columns = \", hourly.shape)\n",
    "hourly.head()"
   ]
  },
  {
   "cell_type": "code",
   "execution_count": null,
   "metadata": {},
   "outputs": [],
   "source": [
    "# Train, test, validation split: 60% train, 20% validation, and 20% test\n",
    "cols_exclude = ['cnt', 'registered', 'casual', 'yr', 'mnth', 'dteday', 'weekday']\n",
    "X_train, X_test, y_train, y_test = train_test_split(hourly.drop(columns = cols_exclude), hourly['cnt'], test_size=0.2)\n",
    "X_train, X_val, y_train, y_val = train_test_split(X_train, y_train, test_size= .25) # .2 = val/(val+train) = .2/.2+.6"
   ]
  },
  {
   "cell_type": "code",
   "execution_count": null,
   "metadata": {},
   "outputs": [],
   "source": [
    "# Normaliza the input data\n",
    "scObj = MinMaxScaler(feature_range = (0,1))\n",
    "scObj.fit(X_train)\n",
    "X_trainNorm = scObj.transform(X_train)\n",
    "X_valNorm = scObj.transform(X_val)\n",
    "X_testNorm = scObj.transform(X_test)\n",
    "\n",
    "# Normalize the output data\n",
    "scObj = MinMaxScaler(feature_range = (0,1))\n",
    "scObj.fit(y_train.values.reshape(-1,1))\n",
    "y_trainNorm = scObj.transform(y_train.values.reshape(-1,1))\n",
    "y_valNorm = scObj.transform(y_val.values.reshape(-1,1))\n",
    "y_testNorm = scObj.transform(y_test.values.reshape(-1,1))"
   ]
  },
  {
   "cell_type": "code",
   "execution_count": null,
   "metadata": {},
   "outputs": [],
   "source": [
    "# Instantiate Model\n",
    "m = models.Sequential()\n",
    "m.add(layers.Dense(units = 12, activation = 'relu', input_dim = X_trainNorm.shape[1]))\n",
    "m.add(layers.Dropout(0.1))\n",
    "m.add(layers.Dense(units = 12, activation = 'relu'))\n",
    "m.add(layers.Dropout(0.1))\n",
    "m.add(layers.Dense(units = 1, activation = \"linear\"))\n",
    "m.compile(loss = \"mean_squared_error\",optimizer = 'RMSProp', metrics = ['mae'])\n",
    "m.summary()"
   ]
  },
  {
   "cell_type": "markdown",
   "metadata": {},
   "source": [
    "The model of choice for the hourly data has two hidden layers, but with more neurons compared to the daily data model. This is because we have more hourly data points which would be sufficient to train a slightly more complex model than what we have with the limited daily data. The first and second hidden layers have 12 neurons each, the both have a \"ReLu\" activation function and are followed by a drop out layer to introduce some randomness into the model training and avoid over-fitting."
   ]
  },
  {
   "cell_type": "code",
   "execution_count": null,
   "metadata": {
    "scrolled": false
   },
   "outputs": [],
   "source": [
    "# Train the model\n",
    "history = m.fit(X_trainNorm, y_trainNorm, \n",
    "                validation_data = (X_valNorm, y_valNorm), \n",
    "                verbose = 1, \n",
    "                epochs = 40, \n",
    "                batch_size = 8)"
   ]
  },
  {
   "cell_type": "code",
   "execution_count": null,
   "metadata": {
    "scrolled": true
   },
   "outputs": [],
   "source": [
    "# Plot of loss curves for hourly model\n",
    "plt.plot(history.history['loss'],label='train_loss')\n",
    "plt.plot(history.history['val_loss'], label='val_loss')\n",
    "plt.ylabel('loss')\n",
    "plt.xlabel('epoch')\n",
    "plt.title('Training and Validation Loss Curves')\n",
    "plt.legend() \n",
    "plt.show()"
   ]
  },
  {
   "cell_type": "markdown",
   "metadata": {},
   "source": [
    "Surprisingly, our training loss is higher than the val loss again, but since they are pretty low, we can assume the model is performing well and not over-fitting. "
   ]
  },
  {
   "cell_type": "code",
   "execution_count": null,
   "metadata": {
    "scrolled": false
   },
   "outputs": [],
   "source": [
    "# Model Error\n",
    "print('MAE on the test for hourly model is %.3f' % m.evaluate(X_testNorm, y_testNorm)[1])\n",
    "\n",
    "# Model Predictions\n",
    "y_preds = m.predict(X_testNorm)\n",
    "\n",
    "# Plot of predictions vs. actual\n",
    "plt.figure(figsize = (12,6))\n",
    "plt.plot(scObj.inverse_transform(y_preds.reshape(-1, 1))[:100], label='Predicted', color = 'orange')\n",
    "plt.plot(scObj.inverse_transform(y_testNorm.reshape(-1, 1))[:100], label='Actual')\n",
    "plt.ylabel(\"Count\")\n",
    "plt.title(\"Actual Hourly Bike Rentals vs. Model Predictions (first 100 test values)\")\n",
    "plt.legend()\n",
    "plt.show()"
   ]
  },
  {
   "cell_type": "code",
   "execution_count": null,
   "metadata": {},
   "outputs": [],
   "source": [
    "# Export y_test & y_preds as .csv (to be used for plots later)\n",
    "y_pred_hourly = scObj.inverse_transform(y_preds.reshape(-1, 1))[:100].values\n",
    "y_pred_hourly = scObj.inverse_transform(y_testNorm.reshape(-1, 1))[:100].values\n",
    "\n",
    "hourly_predictions = pd.concat((pd.DataFrame(y_test_hourly), pd.DataFrame(y_pred_hourly)), axis = 1)\n",
    "hourly_predictions.to_csv(\"/Users/aditigala/Documents/Pacific/Software_Methods/Bikeshare/Data/hourly_preds.csv\")"
   ]
  },
  {
   "cell_type": "code",
   "execution_count": null,
   "metadata": {},
   "outputs": [],
   "source": []
  }
 ],
 "metadata": {
  "kernelspec": {
   "display_name": "Python 3",
   "language": "python",
   "name": "python3"
  },
  "language_info": {
   "codemirror_mode": {
    "name": "ipython",
    "version": 3
   },
   "file_extension": ".py",
   "mimetype": "text/x-python",
   "name": "python",
   "nbconvert_exporter": "python",
   "pygments_lexer": "ipython3",
   "version": "3.7.4"
  }
 },
 "nbformat": 4,
 "nbformat_minor": 2
}
